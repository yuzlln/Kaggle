{
 "cells": [
  {
   "cell_type": "markdown",
   "metadata": {},
   "source": [
    "# Titanic, Machine Learning from Disaster"
   ]
  },
  {
   "cell_type": "code",
   "execution_count": 1,
   "metadata": {},
   "outputs": [],
   "source": [
    "import pandas as pd\n",
    "import numpy as np\n",
    "import seaborn as sns\n",
    "import matplotlib.pyplot as plt\n",
    "%matplotlib inline\n",
    "\n",
    "import warnings\n",
    "warnings.filterwarnings('ignore')"
   ]
  },
  {
   "cell_type": "code",
   "execution_count": 2,
   "metadata": {},
   "outputs": [],
   "source": [
    "## 한글 폰트 설정\n",
    "import os\n",
    "os.name\n",
    "\n",
    "import os\n",
    "if os.name == 'posix' :\n",
    "    plt.rc('font', family='AppleGothic')    # 맥\n",
    "else:\n",
    "    plt.rc('font', family='Malgun Gothic')  # 윈도우\n",
    "\n",
    "# 마이너스 폰트 깨지는 문제애 대한 대처\n",
    "plt.rc('axes', unicode_minus=False)\n",
    "\n",
    "# 레티나 설정을 해주면 글씨가 더 선명해짐\n",
    "%config InlineBackend.figure_font = 'retina'"
   ]
  },
  {
   "cell_type": "code",
   "execution_count": null,
   "metadata": {},
   "outputs": [],
   "source": []
  }
 ],
 "metadata": {
  "kernelspec": {
   "display_name": "base",
   "language": "python",
   "name": "python3"
  },
  "language_info": {
   "codemirror_mode": {
    "name": "ipython",
    "version": 3
   },
   "file_extension": ".py",
   "mimetype": "text/x-python",
   "name": "python",
   "nbconvert_exporter": "python",
   "pygments_lexer": "ipython3",
   "version": "3.11.5"
  }
 },
 "nbformat": 4,
 "nbformat_minor": 2
}
